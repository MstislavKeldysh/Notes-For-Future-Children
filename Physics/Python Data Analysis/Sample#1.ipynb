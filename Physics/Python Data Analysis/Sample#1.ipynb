{
 "cells": [
  {
   "cell_type": "code",
   "execution_count": 32,
   "id": "cb0ec2ce",
   "metadata": {},
   "outputs": [],
   "source": [
    "import numpy as np\n",
    "import matplotlib.pyplot as plt\n",
    "from scipy.optimize import curve_fit"
   ]
  },
  {
   "cell_type": "code",
   "execution_count": 3,
   "id": "0de2c30d",
   "metadata": {},
   "outputs": [],
   "source": [
    "#We can define variables and do basic operations with them, like you would expect.\n",
    "x1 = 1\n",
    "x2 = -2"
   ]
  },
  {
   "cell_type": "code",
   "execution_count": 4,
   "id": "efc9b33e",
   "metadata": {},
   "outputs": [
    {
     "data": {
      "text/plain": [
       "-1"
      ]
     },
     "execution_count": 4,
     "metadata": {},
     "output_type": "execute_result"
    }
   ],
   "source": [
    "x1+x2"
   ]
  },
  {
   "cell_type": "code",
   "execution_count": 5,
   "id": "04456ac9",
   "metadata": {},
   "outputs": [
    {
     "data": {
      "text/plain": [
       "-2"
      ]
     },
     "execution_count": 5,
     "metadata": {},
     "output_type": "execute_result"
    }
   ],
   "source": [
    "x1*x2"
   ]
  },
  {
   "cell_type": "code",
   "execution_count": 6,
   "id": "18201c6c",
   "metadata": {},
   "outputs": [],
   "source": [
    "#The numpy package gives us access to some special functions like exp and sine"
   ]
  },
  {
   "cell_type": "code",
   "execution_count": 7,
   "id": "bc955b88",
   "metadata": {},
   "outputs": [
    {
     "data": {
      "text/plain": [
       "2.718281828459045"
      ]
     },
     "execution_count": 7,
     "metadata": {},
     "output_type": "execute_result"
    }
   ],
   "source": [
    "np.exp(x1)"
   ]
  },
  {
   "cell_type": "code",
   "execution_count": 8,
   "id": "536d188f",
   "metadata": {},
   "outputs": [
    {
     "data": {
      "text/plain": [
       "1.0"
      ]
     },
     "execution_count": 8,
     "metadata": {},
     "output_type": "execute_result"
    }
   ],
   "source": [
    "#Note that the trigonometric functions take radians as arguments\n",
    "np.sin(np.pi/2)"
   ]
  },
  {
   "cell_type": "code",
   "execution_count": 9,
   "id": "6826e6bc",
   "metadata": {},
   "outputs": [],
   "source": [
    "#You also have numpy arrays \n",
    "myListofNumbers= np.array([1,2,3,4])"
   ]
  },
  {
   "cell_type": "code",
   "execution_count": 13,
   "id": "c3b97214",
   "metadata": {},
   "outputs": [
    {
     "name": "stdout",
     "output_type": "stream",
     "text": [
      "[2 4 6 8]\n",
      "[ 3  6  9 12]\n"
     ]
    }
   ],
   "source": [
    "#You can add numpy arrays and multiply them by numbers (but not regular arrays)\n",
    "print(myListofNumbers+myListofNumbers)\n",
    "print(3*myListofNumbers)"
   ]
  },
  {
   "cell_type": "code",
   "execution_count": 14,
   "id": "11bf3f95",
   "metadata": {},
   "outputs": [
    {
     "data": {
      "text/plain": [
       "[1, 2, 3, 1, 2, 3, 1, 2, 3]"
      ]
     },
     "execution_count": 14,
     "metadata": {},
     "output_type": "execute_result"
    }
   ],
   "source": [
    "#Regular arrays act weird, so always use numpy arrays\n",
    "3*[1,2,3]"
   ]
  },
  {
   "cell_type": "code",
   "execution_count": 16,
   "id": "538f8da5",
   "metadata": {},
   "outputs": [
    {
     "data": {
      "text/plain": [
       "3"
      ]
     },
     "execution_count": 16,
     "metadata": {},
     "output_type": "execute_result"
    }
   ],
   "source": [
    "#To access the nth item in the array do as follows (indexed from 0 i.e. index 1 is the 2nd element of the list)\n",
    "\n",
    "myListofNumbers[2]"
   ]
  },
  {
   "cell_type": "code",
   "execution_count": 22,
   "id": "b5a9a3b6",
   "metadata": {},
   "outputs": [
    {
     "data": {
      "text/plain": [
       "array([ 2.71828183,  7.3890561 , 20.08553692, 54.59815003])"
      ]
     },
     "execution_count": 22,
     "metadata": {},
     "output_type": "execute_result"
    }
   ],
   "source": [
    "#You can also apply many functiosn to list\n",
    "np.exp(myListofNumbers)"
   ]
  },
  {
   "cell_type": "code",
   "execution_count": 25,
   "id": "517a08cc",
   "metadata": {},
   "outputs": [],
   "source": [
    "#You can have arrays with arrays inside them\n",
    "myListofPoints = np.array( [[1,2,3,4,5,6,7],[2,4,6,8,10,12,14]] )"
   ]
  },
  {
   "cell_type": "code",
   "execution_count": 26,
   "id": "51a7f208",
   "metadata": {},
   "outputs": [
    {
     "data": {
      "text/plain": [
       "array([1, 2, 3, 4, 5, 6, 7])"
      ]
     },
     "execution_count": 26,
     "metadata": {},
     "output_type": "execute_result"
    }
   ],
   "source": [
    "myListofPoints[0]"
   ]
  },
  {
   "cell_type": "code",
   "execution_count": 27,
   "id": "58f08c47",
   "metadata": {},
   "outputs": [
    {
     "data": {
      "text/plain": [
       "2"
      ]
     },
     "execution_count": 27,
     "metadata": {},
     "output_type": "execute_result"
    }
   ],
   "source": [
    "myListofPoints[0][1]"
   ]
  },
  {
   "cell_type": "code",
   "execution_count": 28,
   "id": "87586c04",
   "metadata": {},
   "outputs": [
    {
     "data": {
      "text/plain": [
       "[<matplotlib.lines.Line2D at 0x136980f2d10>]"
      ]
     },
     "execution_count": 28,
     "metadata": {},
     "output_type": "execute_result"
    },
    {
     "data": {
      "image/png": "[encoded data removed]",
      "text/plain": [
       "<Figure size 432x288 with 1 Axes>"
      ]
     },
     "metadata": {
      "needs_background": "light"
     },
     "output_type": "display_data"
    }
   ],
   "source": [
    "#Now let's look at how to plot things. The simplest way is to simply use pyplot's plot function! \n",
    "#You have to enter the x values and y values of your data as two separate arrays\n",
    "\n",
    "plt.plot(myListofPoints[0], myListofPoints[1])"
   ]
  },
  {
   "cell_type": "code",
   "execution_count": 53,
   "id": "d698b6fb",
   "metadata": {},
   "outputs": [
    {
     "data": {
      "image/png": "[encoded data removed]",
      "text/plain": [
       "<Figure size 432x288 with 1 Axes>"
      ]
     },
     "metadata": {
      "needs_background": "light"
     },
     "output_type": "display_data"
    }
   ],
   "source": [
    "#I usually prefer to work with figures. This way, it is easier to manage making multiple plots at once. You define a figure, \n",
    "#Give it axes and then use more or less the same plotting and modifier functions. Here is an example of a fully worked plot below\n",
    "\n",
    "\n",
    "#Let's also suppose my x values have uncertainties:\n",
    "\n",
    "dx = [0.3 for x in myListofPoints[0]]\n",
    "dy = [0.6 for x in myListofPoints[1]]\n",
    "\n",
    "\n",
    "\n",
    "myFigure = plt.figure()\n",
    "ax = myFigure.add_axes([0,0,1,1])\n",
    "\n",
    "ax.set_xlabel(\"Time (s)\")\n",
    "ax.set_ylabel(\"Position (m)\")\n",
    "\n",
    "#ls - linestyle (you can do -- for dashed, . for dotted and -. for dash dotted), marker - the style of your marker (you can do star etc.) ). Color is self explanatory\n",
    "ax.errorbar(myListofPoints[0], myListofPoints[1],xerr = dx, yerr = dy ,ls ='', marker = 'o', color = 'green', label = 'Experimental Data')\n",
    "\n",
    "#Changes the axes tick label from 1e6 to scientific notation\n",
    "ax.ticklabel_format(style='sci',useMathText = True)\n",
    "\n",
    "\n"
   ]
  },
  {
   "cell_type": "code",
   "execution_count": 38,
   "id": "147f44e3",
   "metadata": {},
   "outputs": [],
   "source": [
    "#Now let's look at how to curve fit!\n",
    "#For this purpose we can use the curve fit function we imported from scipy.optimize\n",
    "\n",
    "#First let's define the function we want to optimize:\n",
    "\n",
    "def linearRel(x,k,b):\n",
    "    return k*x+b\n",
    "#Alternatively you could define the same function as\n",
    "\n",
    "linearRel2 = lambda x,k,b: k*x+b\n"
   ]
  },
  {
   "cell_type": "code",
   "execution_count": 40,
   "id": "d4103d3d",
   "metadata": {},
   "outputs": [],
   "source": [
    "#Now let's fit the data to this function using curve fit!\n",
    "\n",
    "#The fitting function can take care of your uncertainties in the y direction too! It even gives you the uncertanties\n",
    "#in the parameters it calculates\n",
    "parameters,covmatrix = curve_fit(linearRel,myListofPoints[0], myListofPoints[1], sigma = dy, absolute_sigma = True)\n",
    "\n",
    "parameterUncertainties = np.sqrt(np.diag(covmatrix))\n",
    "\n"
   ]
  },
  {
   "cell_type": "code",
   "execution_count": 41,
   "id": "75e54dcc",
   "metadata": {},
   "outputs": [
    {
     "name": "stdout",
     "output_type": "stream",
     "text": [
      "[2.00000000e+00 4.25529134e-09]\n"
     ]
    }
   ],
   "source": [
    "#The parameters are outputed in the order they appear in our function definition (slope then intercept). In this case\n",
    "#Intercept is not quite 0, which usually happens. But its a very small number so is ok\n",
    "print(parameters)"
   ]
  },
  {
   "cell_type": "code",
   "execution_count": 42,
   "id": "f9196969",
   "metadata": {},
   "outputs": [
    {
     "name": "stdout",
     "output_type": "stream",
     "text": [
      "[inf inf]\n"
     ]
    }
   ],
   "source": [
    "#If you have \"perfect data\", the thing would have a hard time to estimate uncertainty. But this \n",
    "print(parameterUncertainties)"
   ]
  },
  {
   "cell_type": "code",
   "execution_count": 54,
   "id": "0d9d9f11",
   "metadata": {},
   "outputs": [],
   "source": [
    "#Let's quickly plot the fitted function on top of the original plot\n",
    "\n",
    "theActualLinearRel = lambda x: linearRel(x, *parameters)\n",
    "\n",
    "ax.plot(myListofPoints[0], theActualLinearRel(myListofPoints[0]) ,ls='--',color = 'black', label='Line of Best Fit')\n",
    "\n",
    "#This inputs the legend using the labels we defined when plotting our graphs\n",
    "ax.legend()\n",
    "\n",
    "\n",
    "\n",
    "#You can save the figure as a file. It saves in the same place as \n",
    "myFigure.savefig(\"figname.jpg\", bbox_inches='tight', dpi = myFigure.dpi)"
   ]
  },
  {
   "cell_type": "code",
   "execution_count": 50,
   "id": "f064cad9",
   "metadata": {},
   "outputs": [],
   "source": []
  },
  {
   "cell_type": "code",
   "execution_count": null,
   "id": "070455b4",
   "metadata": {},
   "outputs": [],
   "source": []
  }
 ],
 "metadata": {
  "kernelspec": {
   "display_name": "Python 3 (ipykernel)",
   "language": "python",
   "name": "python3"
  },
  "language_info": {
   "codemirror_mode": {
    "name": "ipython",
    "version": 3
   },
   "file_extension": ".py",
   "mimetype": "text/x-python",
   "name": "python",
   "nbconvert_exporter": "python",
   "pygments_lexer": "ipython3",
   "version": "3.10.2"
  }
 },
 "nbformat": 4,
 "nbformat_minor": 5
}
